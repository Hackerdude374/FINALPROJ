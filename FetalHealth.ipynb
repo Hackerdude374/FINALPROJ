{
  "nbformat": 4,
  "nbformat_minor": 0,
  "metadata": {
    "colab": {
      "provenance": [],
      "toc_visible": true
    },
    "kernelspec": {
      "name": "python3",
      "display_name": "Python 3"
    },
    "language_info": {
      "name": "python"
    }
  },
  "cells": [
    {
      "cell_type": "code",
      "source": [
        "import pandas as pd\n",
        "\n",
        "df = pd.read_csv(\"fetal_health.csv\")\n",
        "\n",
        "# Check for missing values\n",
        "missing_values = df.isnull().sum()\n",
        "\n",
        "print(\"Missing Values:\")\n",
        "print(missing_values)"
      ],
      "metadata": {
        "colab": {
          "base_uri": "https://localhost:8080/"
        },
        "id": "YDsUoeO3-WOP",
        "outputId": "295d2a90-a925-4522-ce80-eea5a85ee198"
      },
      "execution_count": null,
      "outputs": [
        {
          "output_type": "stream",
          "name": "stdout",
          "text": [
            "Missing Values:\n",
            "baseline value                                            0\n",
            "accelerations                                             0\n",
            "fetal_movement                                            0\n",
            "uterine_contractions                                      0\n",
            "light_decelerations                                       0\n",
            "severe_decelerations                                      0\n",
            "prolongued_decelerations                                  0\n",
            "abnormal_short_term_variability                           0\n",
            "mean_value_of_short_term_variability                      0\n",
            "percentage_of_time_with_abnormal_long_term_variability    0\n",
            "mean_value_of_long_term_variability                       0\n",
            "histogram_width                                           0\n",
            "histogram_min                                             0\n",
            "histogram_max                                             0\n",
            "histogram_number_of_peaks                                 0\n",
            "histogram_number_of_zeroes                                0\n",
            "histogram_mode                                            0\n",
            "histogram_mean                                            0\n",
            "histogram_median                                          0\n",
            "histogram_variance                                        0\n",
            "histogram_tendency                                        0\n",
            "fetal_health                                              0\n",
            "dtype: int64\n"
          ]
        }
      ]
    },
    {
      "cell_type": "code",
      "source": [
        "from sklearn.model_selection import train_test_split\n",
        "from sklearn.ensemble import RandomForestClassifier\n",
        "from sklearn.metrics import accuracy_score, classification_report, confusion_matrix\n",
        "\n",
        "# Split the data into training and testing sets\n",
        "X_train, X_test, y_train, y_test = train_test_split(X, y, test_size=0.2)\n",
        "\n",
        "# Initialize RandomForestClassifier\n",
        "rf_classifier = RandomForestClassifier()\n",
        "\n",
        "# Fit the classifier to the training data\n",
        "rf_classifier.fit(X_train, y_train)\n",
        "\n",
        "# Predict the labels for the training data\n",
        "y_train_pred = rf_classifier.predict(X_train)\n",
        "\n",
        "print('################ For Training Data ##############')\n",
        "print('\\n')\n",
        "\n",
        "# Evaluate the performance of the classifier for training data\n",
        "train_accuracy = accuracy_score(y_train, y_train_pred)\n",
        "print(\"Training Accuracy:\", train_accuracy)\n",
        "\n",
        "# Generate classification report for training data\n",
        "train_report = classification_report(y_train, y_train_pred)\n",
        "print(\"Training Classification Report:\")\n",
        "print(train_report)\n",
        "\n",
        "# Generate confusion matrix for training data\n",
        "train_conf_matrix = confusion_matrix(y_train, y_train_pred)\n",
        "print(\"Training Confusion Matrix:\")\n",
        "print(train_conf_matrix)\n",
        "\n",
        "print('\\n')\n",
        "print('################ For Testing Data ##############')\n",
        "print('\\n')\n",
        "\n",
        "# Predict the labels for the testing data\n",
        "y_test_pred = rf_classifier.predict(X_test)\n",
        "\n",
        "# Evaluate the performance of the classifier for testing data\n",
        "test_accuracy_rf = accuracy_score(y_test, y_test_pred)\n",
        "print(\"Testing Accuracy:\", test_accuracy_rf)\n",
        "\n",
        "# Generate classification report for testing data\n",
        "test_report = classification_report(y_test, y_test_pred)\n",
        "print(\"Testing Classification Report:\")\n",
        "print(test_report)\n",
        "\n",
        "# Generate confusion matrix for testing data\n",
        "test_conf_matrix = confusion_matrix(y_test, y_test_pred)\n",
        "print(\"Testing Confusion Matrix:\")\n",
        "print(test_conf_matrix)"
      ],
      "metadata": {
        "colab": {
          "base_uri": "https://localhost:8080/"
        },
        "id": "0aDIeN1I_B4L",
        "outputId": "a029c115-6558-4268-d7c1-7f0039a8a4d7"
      },
      "execution_count": null,
      "outputs": [
        {
          "output_type": "stream",
          "name": "stdout",
          "text": [
            "################ For Training Data ##############\n",
            "\n",
            "\n",
            "Training Accuracy: 0.9988235294117647\n",
            "Training Classification Report:\n",
            "              precision    recall  f1-score   support\n",
            "\n",
            "         1.0       1.00      1.00      1.00      1325\n",
            "         2.0       1.00      0.99      1.00       231\n",
            "         3.0       1.00      1.00      1.00       144\n",
            "\n",
            "    accuracy                           1.00      1700\n",
            "   macro avg       1.00      1.00      1.00      1700\n",
            "weighted avg       1.00      1.00      1.00      1700\n",
            "\n",
            "Training Confusion Matrix:\n",
            "[[1325    0    0]\n",
            " [   2  229    0]\n",
            " [   0    0  144]]\n",
            "\n",
            "\n",
            "################ For Testing Data ##############\n",
            "\n",
            "\n",
            "Testing Accuracy: 0.9436619718309859\n",
            "Testing Classification Report:\n",
            "              precision    recall  f1-score   support\n",
            "\n",
            "         1.0       0.95      0.99      0.97       330\n",
            "         2.0       0.96      0.70      0.81        64\n",
            "         3.0       0.91      0.91      0.91        32\n",
            "\n",
            "    accuracy                           0.94       426\n",
            "   macro avg       0.94      0.87      0.90       426\n",
            "weighted avg       0.94      0.94      0.94       426\n",
            "\n",
            "Testing Confusion Matrix:\n",
            "[[328   2   0]\n",
            " [ 16  45   3]\n",
            " [  3   0  29]]\n"
          ]
        }
      ]
    },
    {
      "cell_type": "code",
      "source": [
        "from sklearn.model_selection import train_test_split, GridSearchCV\n",
        "from sklearn.ensemble import RandomForestClassifier\n",
        "from sklearn.metrics import classification_report\n",
        "\n",
        "# Assuming you have already split your data into x_train, x_test, y_train, y_test\n",
        "\n",
        "# Initialize RandomForestClassifier\n",
        "rfc = RandomForestClassifier(random_state=42)\n",
        "\n",
        "# Define the parameter grid to search\n",
        "param_grid = {\n",
        "    'n_estimators': [100, 200, 500],\n",
        "    'max_features': ['sqrt', 'log2'],\n",
        "    'criterion': ['gini', 'entropy']\n",
        "}\n",
        "\n",
        "# Perform train-test split\n",
        "x_train, x_test, y_train, y_test = train_test_split(X, y, test_size=0.2)\n",
        "\n",
        "# Initialize GridSearchCV\n",
        "CV_rfc = GridSearchCV(estimator=rfc, param_grid=param_grid, cv=5)\n",
        "\n",
        "# Perform grid search to find the best parameters\n",
        "CV_rfc.fit(x_train, y_train)\n",
        "\n",
        "# Print the best parameters found by GridSearchCV\n",
        "print(\"Best Parameters:\", CV_rfc.best_params_)\n",
        "\n",
        "# Calculate the accuracy for the training dataset with tuning\n",
        "accuracy = CV_rfc.best_score_ * 100\n",
        "print(\"Accuracy for our training dataset with tuning is: {:.2f}%\".format(accuracy))\n",
        "\n",
        "# Generate classification report for testing data using the best estimator\n",
        "print(\"Classification Report for Testing Data:\")\n",
        "print(classification_report(y_test, CV_rfc.best_estimator_.predict(x_test)))\n"
      ],
      "metadata": {
        "colab": {
          "base_uri": "https://localhost:8080/"
        },
        "id": "7_uBVCArHq7L",
        "outputId": "20e28a5c-acb9-4439-fa1c-bc77aff135d9"
      },
      "execution_count": null,
      "outputs": [
        {
          "output_type": "stream",
          "name": "stdout",
          "text": [
            "Best Parameters: {'criterion': 'entropy', 'max_features': 'sqrt', 'n_estimators': 100}\n",
            "Accuracy for our training dataset with tuning is: 93.94%\n",
            "Classification Report for Testing Data:\n",
            "              precision    recall  f1-score   support\n",
            "\n",
            "         1.0       0.97      0.98      0.97       326\n",
            "         2.0       0.88      0.86      0.87        65\n",
            "         3.0       0.97      0.89      0.93        35\n",
            "\n",
            "    accuracy                           0.95       426\n",
            "   macro avg       0.94      0.91      0.92       426\n",
            "weighted avg       0.95      0.95      0.95       426\n",
            "\n"
          ]
        }
      ]
    },
    {
      "cell_type": "code",
      "source": [
        "from sklearn.ensemble import RandomForestClassifier\n",
        "import numpy as np\n",
        "\n",
        "# Load the trained model\n",
        "rf_classifier = RandomForestClassifier()\n",
        "rf_classifier.fit(X_train, y_train)\n",
        "\n",
        "# Function to interpret fetal health prediction\n",
        "def interpret_fetal_health(prediction):\n",
        "    if prediction == 1.0:\n",
        "        return \"Normal\"\n",
        "    elif prediction == 2.0:\n",
        "        return \"Suspicious - Needs more info\"\n",
        "    elif prediction == 3.0:\n",
        "        return \"Pathological\"\n",
        "    else:\n",
        "        return \"Invalid prediction\"\n",
        "\n",
        "# Function to prompt user for input and make predictions\n",
        "def predict_fetal_health():\n",
        "    print(\"Please enter the following feature values:\")\n",
        "\n",
        "    features = []\n",
        "    for feature_name in X.columns:\n",
        "        value = input(f\"{feature_name}: \")\n",
        "        features.append(float(value))\n",
        "\n",
        "    # Convert the user input into a numpy array and reshape it\n",
        "    input_data = np.array(features).reshape(1, -1)\n",
        "\n",
        "    # Make prediction\n",
        "    prediction = rf_classifier.predict(input_data)[0]\n",
        "\n",
        "    # Interpret prediction\n",
        "    interpretation = interpret_fetal_health(prediction)\n",
        "\n",
        "    # Print prediction and interpretation\n",
        "    print(f\"The predicted fetal health is: {prediction}\")\n",
        "    print(f\"Interpretation: {interpretation}\")\n",
        "\n",
        "# Call the function to make predictions based on user input\n",
        "predict_fetal_health()"
      ],
      "metadata": {
        "colab": {
          "base_uri": "https://localhost:8080/",
          "height": 356
        },
        "id": "8wlVbD5xB2q_",
        "outputId": "b8230600-7f38-4507-f8d5-428d207f7548"
      },
      "execution_count": null,
      "outputs": [
        {
          "output_type": "stream",
          "name": "stdout",
          "text": [
            "Please enter the following feature values:\n"
          ]
        },
        {
          "output_type": "error",
          "ename": "KeyboardInterrupt",
          "evalue": "Interrupted by user",
          "traceback": [
            "\u001b[0;31m---------------------------------------------------------------------------\u001b[0m",
            "\u001b[0;31mKeyboardInterrupt\u001b[0m                         Traceback (most recent call last)",
            "\u001b[0;32m<ipython-input-71-9fd010d186e9>\u001b[0m in \u001b[0;36m<cell line: 42>\u001b[0;34m()\u001b[0m\n\u001b[1;32m     40\u001b[0m \u001b[0;34m\u001b[0m\u001b[0m\n\u001b[1;32m     41\u001b[0m \u001b[0;31m# Call the function to make predictions based on user input\u001b[0m\u001b[0;34m\u001b[0m\u001b[0;34m\u001b[0m\u001b[0m\n\u001b[0;32m---> 42\u001b[0;31m \u001b[0mpredict_fetal_health\u001b[0m\u001b[0;34m(\u001b[0m\u001b[0;34m)\u001b[0m\u001b[0;34m\u001b[0m\u001b[0;34m\u001b[0m\u001b[0m\n\u001b[0m",
            "\u001b[0;32m<ipython-input-71-9fd010d186e9>\u001b[0m in \u001b[0;36mpredict_fetal_health\u001b[0;34m()\u001b[0m\n\u001b[1;32m     23\u001b[0m     \u001b[0mfeatures\u001b[0m \u001b[0;34m=\u001b[0m \u001b[0;34m[\u001b[0m\u001b[0;34m]\u001b[0m\u001b[0;34m\u001b[0m\u001b[0;34m\u001b[0m\u001b[0m\n\u001b[1;32m     24\u001b[0m     \u001b[0;32mfor\u001b[0m \u001b[0mfeature_name\u001b[0m \u001b[0;32min\u001b[0m \u001b[0mX\u001b[0m\u001b[0;34m.\u001b[0m\u001b[0mcolumns\u001b[0m\u001b[0;34m:\u001b[0m\u001b[0;34m\u001b[0m\u001b[0;34m\u001b[0m\u001b[0m\n\u001b[0;32m---> 25\u001b[0;31m         \u001b[0mvalue\u001b[0m \u001b[0;34m=\u001b[0m \u001b[0minput\u001b[0m\u001b[0;34m(\u001b[0m\u001b[0;34mf\"{feature_name}: \"\u001b[0m\u001b[0;34m)\u001b[0m\u001b[0;34m\u001b[0m\u001b[0;34m\u001b[0m\u001b[0m\n\u001b[0m\u001b[1;32m     26\u001b[0m         \u001b[0mfeatures\u001b[0m\u001b[0;34m.\u001b[0m\u001b[0mappend\u001b[0m\u001b[0;34m(\u001b[0m\u001b[0mfloat\u001b[0m\u001b[0;34m(\u001b[0m\u001b[0mvalue\u001b[0m\u001b[0;34m)\u001b[0m\u001b[0;34m)\u001b[0m\u001b[0;34m\u001b[0m\u001b[0;34m\u001b[0m\u001b[0m\n\u001b[1;32m     27\u001b[0m \u001b[0;34m\u001b[0m\u001b[0m\n",
            "\u001b[0;32m/usr/local/lib/python3.10/dist-packages/ipykernel/kernelbase.py\u001b[0m in \u001b[0;36mraw_input\u001b[0;34m(self, prompt)\u001b[0m\n\u001b[1;32m    849\u001b[0m                 \u001b[0;34m\"raw_input was called, but this frontend does not support input requests.\"\u001b[0m\u001b[0;34m\u001b[0m\u001b[0;34m\u001b[0m\u001b[0m\n\u001b[1;32m    850\u001b[0m             )\n\u001b[0;32m--> 851\u001b[0;31m         return self._input_request(str(prompt),\n\u001b[0m\u001b[1;32m    852\u001b[0m             \u001b[0mself\u001b[0m\u001b[0;34m.\u001b[0m\u001b[0m_parent_ident\u001b[0m\u001b[0;34m,\u001b[0m\u001b[0;34m\u001b[0m\u001b[0;34m\u001b[0m\u001b[0m\n\u001b[1;32m    853\u001b[0m             \u001b[0mself\u001b[0m\u001b[0;34m.\u001b[0m\u001b[0m_parent_header\u001b[0m\u001b[0;34m,\u001b[0m\u001b[0;34m\u001b[0m\u001b[0;34m\u001b[0m\u001b[0m\n",
            "\u001b[0;32m/usr/local/lib/python3.10/dist-packages/ipykernel/kernelbase.py\u001b[0m in \u001b[0;36m_input_request\u001b[0;34m(self, prompt, ident, parent, password)\u001b[0m\n\u001b[1;32m    893\u001b[0m             \u001b[0;32mexcept\u001b[0m \u001b[0mKeyboardInterrupt\u001b[0m\u001b[0;34m:\u001b[0m\u001b[0;34m\u001b[0m\u001b[0;34m\u001b[0m\u001b[0m\n\u001b[1;32m    894\u001b[0m                 \u001b[0;31m# re-raise KeyboardInterrupt, to truncate traceback\u001b[0m\u001b[0;34m\u001b[0m\u001b[0;34m\u001b[0m\u001b[0m\n\u001b[0;32m--> 895\u001b[0;31m                 \u001b[0;32mraise\u001b[0m \u001b[0mKeyboardInterrupt\u001b[0m\u001b[0;34m(\u001b[0m\u001b[0;34m\"Interrupted by user\"\u001b[0m\u001b[0;34m)\u001b[0m \u001b[0;32mfrom\u001b[0m \u001b[0;32mNone\u001b[0m\u001b[0;34m\u001b[0m\u001b[0;34m\u001b[0m\u001b[0m\n\u001b[0m\u001b[1;32m    896\u001b[0m             \u001b[0;32mexcept\u001b[0m \u001b[0mException\u001b[0m \u001b[0;32mas\u001b[0m \u001b[0me\u001b[0m\u001b[0;34m:\u001b[0m\u001b[0;34m\u001b[0m\u001b[0;34m\u001b[0m\u001b[0m\n\u001b[1;32m    897\u001b[0m                 \u001b[0mself\u001b[0m\u001b[0;34m.\u001b[0m\u001b[0mlog\u001b[0m\u001b[0;34m.\u001b[0m\u001b[0mwarning\u001b[0m\u001b[0;34m(\u001b[0m\u001b[0;34m\"Invalid Message:\"\u001b[0m\u001b[0;34m,\u001b[0m \u001b[0mexc_info\u001b[0m\u001b[0;34m=\u001b[0m\u001b[0;32mTrue\u001b[0m\u001b[0;34m)\u001b[0m\u001b[0;34m\u001b[0m\u001b[0;34m\u001b[0m\u001b[0m\n",
            "\u001b[0;31mKeyboardInterrupt\u001b[0m: Interrupted by user"
          ]
        }
      ]
    }
  ]
}