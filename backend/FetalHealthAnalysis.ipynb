{
  "cells": [
    {
      "cell_type": "code",
      "execution_count": 6,
      "metadata": {
        "colab": {
          "base_uri": "https://localhost:8080/"
        },
        "id": "YDsUoeO3-WOP",
        "outputId": "b21db753-4b26-4476-ff13-ddf6f8adca49"
      },
      "outputs": [
        {
          "name": "stdout",
          "output_type": "stream",
          "text": [
            "Please enter the following feature values:\n",
            "The predicted fetal health is: 1.0\n",
            "Interpretation: Normal\n"
          ]
        },
        {
          "name": "stderr",
          "output_type": "stream",
          "text": [
            "C:\\Users\\bobby\\AppData\\Local\\Packages\\PythonSoftwareFoundation.Python.3.12_qbz5n2kfra8p0\\LocalCache\\local-packages\\Python312\\site-packages\\sklearn\\base.py:493: UserWarning: X does not have valid feature names, but RandomForestClassifier was fitted with feature names\n",
            "  warnings.warn(\n"
          ]
        }
      ],
      "source": [
        "import pandas as pd\n",
        "import numpy as np\n",
        "\n",
        "from sklearn.model_selection import train_test_split\n",
        "from sklearn.ensemble import RandomForestClassifier\n",
        "from sklearn.metrics import accuracy_score, classification_report, confusion_matrix\n",
        "\n",
        "df = pd.read_csv(\"fetal_health.csv\")\n",
        "\n",
        "X = df.drop('fetal_health', axis=1)\n",
        "y = df['fetal_health']\n",
        "\n",
        "X_train, X_test, y_train, y_test = train_test_split(X, y, test_size=0.2, random_state = 42)\n",
        "\n",
        "rf_classifier = RandomForestClassifier()\n",
        "\n",
        "rf_classifier.fit(X_train, y_train)\n",
        "\n",
        "y_train_pred = rf_classifier.predict(X_train)\n",
        "\n",
        "y_test_pred = rf_classifier.predict(X_test)\n",
        "\n",
        "def interpret_fetal_health(prediction):\n",
        "    if prediction == 1.0:\n",
        "        return \"Normal\"\n",
        "    elif prediction == 2.0:\n",
        "        return \"Suspicious - Needs more info\"\n",
        "    elif prediction == 3.0:\n",
        "        return \"Pathological\"\n",
        "    else:\n",
        "        return \"Invalid prediction\"\n",
        "\n",
        "def predict_fetal_health():\n",
        "    print(\"Please enter the following feature values:\")\n",
        "\n",
        "    features = []\n",
        "    for feature_name in X.columns:\n",
        "        value = input(f\"{feature_name}: \")\n",
        "        features.append(float(value))\n",
        "\n",
        "    input_data = np.array(features).reshape(1, -1)\n",
        "\n",
        "    # Make prediction\n",
        "    prediction = rf_classifier.predict(input_data)[0]\n",
        "\n",
        "    # Interpret prediction\n",
        "    interpretation = interpret_fetal_health(prediction)\n",
        "\n",
        "    # Print prediction and interpretation\n",
        "    print(f\"The predicted fetal health is: {prediction}\")\n",
        "    print(f\"Interpretation: {interpretation}\")\n",
        "\n",
        "# Call the function to make predictions based on user input\n",
        "predict_fetal_health()"
      ]
    }
  ],
  "metadata": {
    "colab": {
      "provenance": []
    },
    "kernelspec": {
      "display_name": "Python 3",
      "name": "python3"
    },
    "language_info": {
      "name": "python"
    }
  },
  "nbformat": 4,
  "nbformat_minor": 0
}
